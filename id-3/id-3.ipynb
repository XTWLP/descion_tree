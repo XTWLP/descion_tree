{
 "cells": [
  {
   "cell_type": "markdown",
   "metadata": {},
   "source": [
    "# ID-3决策树模型"
   ]
  },
  {
   "cell_type": "markdown",
   "metadata": {},
   "source": [
    "## 1.模型代码"
   ]
  },
  {
   "cell_type": "markdown",
   "metadata": {},
   "source": [
    "### 1.1 决策树各节点定义"
   ]
  },
  {
   "cell_type": "code",
   "execution_count": 12,
   "metadata": {},
   "outputs": [],
   "source": [
    "# -*- coding: utf-8 -*\n",
    "## 定义节点\n",
    "class Node(object): \n",
    "    def __init__(self, attr_init=None, label_init=None, attr_down_init={} ):  \n",
    "        self.attr = attr_init  \n",
    "        self.label = label_init \n",
    "        self.attr_down = attr_down_init "
   ]
  },
  {
   "cell_type": "markdown",
   "metadata": {},
   "source": [
    "### 1.2 决策树实现流程"
   ]
  },
  {
   "cell_type": "code",
   "execution_count": 23,
   "metadata": {},
   "outputs": [],
   "source": [
    "#构建树的函数（训练函数）\n",
    "import pandas as pd\n",
    "data_file_encode = \"gb18030\"\n",
    "with open(\"watermelon_3.csv\", mode = 'r', encoding = data_file_encode) as data_file:\n",
    "    data = pd.read_csv(data_file)\n",
    "def TreeGenerate(df):\n",
    "    ''' \n",
    "    Branching for decision tree using recursion \n",
    "     \n",
    "    @param df: the pandas dataframe of the data_set\n",
    "    @return root: Node, the root node of decision tree\n",
    "    '''  \n",
    "    # generating a new root node\n",
    "    new_node = Node(None, None, {})\n",
    "    label_arr = df[df.columns[-1]]\n",
    "    \n",
    "    label_count = NodeLabel(label_arr)\n",
    "    if label_count:  # assert the label_count isn's empty\n",
    "        new_node.label= max(label_count, key=label_count.get) \n",
    "            \n",
    "        # end if there is only 1 class in current node data\n",
    "        # end if attribution array is empty\n",
    "        if len(label_count) == 1 or len(label_arr) == 0:\n",
    "            return new_node\n",
    "        \n",
    "        # get the optimal attribution for a new branching\n",
    "        new_node.attr, div_value = OptAttr(df)  # via Gini index \n",
    "        \n",
    "        # recursion\n",
    "        if div_value == 0:  # categoric variable\n",
    "            value_count = ValueCount(data[new_node.attr]) \n",
    "            for value in value_count:\n",
    "                df_v = df[ df[new_node.attr].isin([value]) ]  # get sub set\n",
    "                # delete current attribution\n",
    "                df_v = df_v.drop(new_node.attr, 1)  \n",
    "                if len(df_v) == 0:\n",
    "                    new_node.attr_down[value] = Node(None,new_node.label, {})\n",
    "                    return new_node\n",
    "                else:\n",
    "                    new_node.attr_down[value] = TreeGenerate(df_v)     #迭代创立下一级节点\n",
    "                \n",
    "        else:  # continuous variable # left and right child\n",
    "            value_l = \"<=%.3f\" % div_value\n",
    "            value_r = \">%.3f\" % div_value\n",
    "            df_v_l = df[ df[new_node.attr] <= div_value ]  # get sub set\n",
    "            df_v_r = df[ df[new_node.attr] > div_value ]\n",
    " \n",
    "            new_node.attr_down[value_l] = TreeGenerate(df_v_l)\n",
    "            new_node.attr_down[value_r] = TreeGenerate(df_v_r)\n",
    "        \n",
    "    return new_node"
   ]
  },
  {
   "cell_type": "markdown",
   "metadata": {},
   "source": [
    "### 1.3 决策树的预测"
   ]
  },
  {
   "cell_type": "code",
   "execution_count": 24,
   "metadata": {},
   "outputs": [],
   "source": [
    "'''\n",
    "根据根进行预测\n",
    "\n",
    "@param root：节点，决策树的根节点 \n",
    "@param df_sample：数据框，样本行\n",
    "'''\n",
    "def Predict(root, df_sample):\n",
    "    try:\n",
    "        import re   # 使用正则表达式获取字符串中的数字\n",
    "    except ImportError :\n",
    "        print(\"module re not found\")\n",
    "    \n",
    "    while root.attr != None :        \n",
    "        # 连续变量\n",
    "        if df_sample[root.attr].dtype == float :\n",
    "            # 从 root.attr_down 获取 div_value\n",
    "            for key in list(root.attr_down):\n",
    "                num = re.findall(r\"\\d+\\.?\\d*\",key)\n",
    "                div_value = float(num[0])\n",
    "                break\n",
    "            if df_sample[root.attr].values[0] <= div_value:\n",
    "                key = \"<=%.3f\" % div_value\n",
    "                root = root.attr_down[key]\n",
    "            else:\n",
    "                key = \">%.3f\" % div_value\n",
    "                root = root.attr_down[key]\n",
    "                \n",
    "        # 分类变量\n",
    "        else:  \n",
    "            key = df_sample[root.attr].values[0]\n",
    "            # 检查子分支中的属性是否\n",
    "            if key in root.attr_down: \n",
    "                root = root.attr_down[key]\n",
    "            else: \n",
    "                break\n",
    "            \n",
    "    return root.label "
   ]
  },
  {
   "cell_type": "markdown",
   "metadata": {},
   "source": [
    "### 1.4 对目标和属性的取值进行保存和计数"
   ]
  },
  {
   "cell_type": "code",
   "execution_count": 25,
   "metadata": {},
   "outputs": [],
   "source": [
    "'''\n",
    "计算目标类别及其计数\n",
    "\n",
    "@param label_arr：目标类别的数据数组 \n",
    "@return label_count: dict，出现的目标各类和它的计数\n",
    "'''  \n",
    "def NodeLabel(label_arr):\n",
    "    label_count = {}       # 存储目标各类别数量\n",
    "      \n",
    "    for label in label_arr:\n",
    "        if label in label_count: label_count[label] += 1\n",
    "        else: label_count[label] = 1\n",
    "        \n",
    "    return label_count\n",
    "\n",
    "'''\n",
    "计算分类属性的出现值及其计数 \n",
    "\n",
    "@param data_arr：属性的数据数组\n",
    "@return value_count: dict，出现的值和它的计数\n",
    "'''\n",
    "def ValueCount(data_arr):\n",
    "    value_count = {}       # store count of value \n",
    "      \n",
    "    for label in data_arr:\n",
    "        if label in value_count: value_count[label] += 1\n",
    "        else: value_count[label] = 1\n",
    "        \n",
    "    return value_count"
   ]
  },
  {
   "cell_type": "markdown",
   "metadata": {},
   "source": [
    "### 1.5 根据信息增益选择当前数据集下最优属性"
   ]
  },
  {
   "cell_type": "code",
   "execution_count": 26,
   "metadata": {},
   "outputs": [],
   "source": [
    "'''\n",
    "找到当前数据集的最优属性\n",
    "\n",
    "@param df：data_set 的 pandas 数据框 \n",
    "@return opt_attr：分支的最佳属性 \n",
    "@return div_value：对于离散变量值为0 对于连续变量值为t值为二分法的划分值\n",
    "'''  \n",
    "def OptAttr(df):\n",
    "    info_gain = 0\n",
    "    \n",
    "    for attr_id in df.columns[1:-1]:\n",
    "        info_gian_tmp, div_value_tmp = InfoGain(df, attr_id) # 调用信息增益计算函数 \n",
    "        if  info_gian_tmp > info_gain :  # 找到增益最大的那个属性和划分值\n",
    "            info_gain = info_gian_tmp\n",
    "            opt_attr = attr_id\n",
    "            div_value = div_value_tmp\n",
    "        \n",
    "    return opt_attr, div_value"
   ]
  },
  {
   "cell_type": "markdown",
   "metadata": {},
   "source": [
    "### 1.6 计算信息增益（连续数据采用二分法实现）"
   ]
  },
  {
   "cell_type": "code",
   "execution_count": 27,
   "metadata": {},
   "outputs": [],
   "source": [
    "'''\n",
    "ID3算法采用信息增益最大化来实现最优划分属性的选择，这里主要的挑战是离散和连续两种属性变量的分别操作。\n",
    "\n",
    "对于离散变量（categoric variable），参考书p75-77内容实现，\n",
    "对于连续变量（continuous variable），采用书p83-85所介绍的二分法实现。\n",
    "\n",
    "相关内容如信息熵、信息增益最大化、二分法等可参考书p75-76及p84页内容。\n",
    "\n",
    "'''  \n",
    "def InfoGain(df, index):\n",
    "    info_gain = InfoEnt(df.values[:,-1])  # 所有类别的信息熵\n",
    "    div_value = 0  # 连续属性的分割值（二分法）\n",
    "    \n",
    "    n = len(df[index])  # 数据集的长度\n",
    "    # 1.对连续变量使用二分法\n",
    "    if df[index].dtype == float:\n",
    "        sub_info_ent = {}  # 存储分割值及其子集熵\n",
    "        \n",
    "        df = df.sort_values([index], ascending=1)  # 对数值进行排序\n",
    "        df = df.reset_index(drop=True)\n",
    "        \n",
    "        data_arr = df[index]\n",
    "        label_arr = df[df.columns[-1]]\n",
    "        \n",
    "        for i in range(n-1):\n",
    "            div = (data_arr[i] + data_arr[i+1]) / 2\n",
    "            sub_info_ent[div] = ( (i+1) * InfoEnt(label_arr[0:i+1]) / n ) \\\n",
    "                              + ( (n-i-1) * InfoEnt(label_arr[i+1:-1]) / n )\n",
    "        # 我们的目标是获得最小子集熵和它的划分值在p84公式\n",
    "        div_value, sub_info_ent_max = min(sub_info_ent.items(), key=lambda x: x[1])\n",
    "        info_gain -= sub_info_ent_max\n",
    "        \n",
    "    # 2.对于离散变量（分类变量）直接计算信息增益\n",
    "    else:\n",
    "        data_arr = df[index]\n",
    "        label_arr = df[df.columns[-1]]\n",
    "        value_count = ValueCount(data_arr)\n",
    "            \n",
    "        for key in value_count:\n",
    "            key_label_arr = label_arr[data_arr == key]\n",
    "            info_gain -= value_count[key] * InfoEnt(key_label_arr) / n\n",
    "    \n",
    "    return info_gain, div_value"
   ]
  },
  {
   "cell_type": "markdown",
   "metadata": {},
   "source": [
    "### 1.7 计算信息熵"
   ]
  },
  {
   "cell_type": "code",
   "execution_count": 28,
   "metadata": {},
   "outputs": [],
   "source": [
    "'''\n",
    "计算属性的信息熵 \n",
    "'''  \n",
    "def InfoEnt(label_arr):\n",
    "    try :\n",
    "        from math import log2\n",
    "    except ImportError :\n",
    "        print(\"module math.log2 not found\")\n",
    "    \n",
    "    ent = 0\n",
    "    n = len(label_arr)\n",
    "    label_count = NodeLabel(label_arr) # label_count {'是': 8, '否': 9}\n",
    "    \n",
    "    for key in label_count:\n",
    "        ent -= ( label_count[key] / n ) * log2( label_count[key] / n )\n",
    "    \n",
    "    return ent"
   ]
  },
  {
   "cell_type": "markdown",
   "metadata": {},
   "source": [
    "### 1.8 将树构建为图，然后进行可视化"
   ]
  },
  {
   "cell_type": "code",
   "execution_count": 29,
   "metadata": {},
   "outputs": [],
   "source": [
    "def TreeToGraph(i, g, root):\n",
    "    '''\n",
    "    从根开始构建图\n",
    "    \n",
    "    @param i：这棵树中的节点号 \n",
    "    @param g: pydotplus.graphviz.Dot() 对象 \n",
    "    @param root：根节点 @return i：修改后的节点号\n",
    "    @return g: 修改后的 pydotplus.graphviz.Dot() 对象 \n",
    "    @return g_node：graphviz 中的当前根节点\n",
    "    '''\n",
    "    try:\n",
    "        from pydotplus import graphviz\n",
    "    except ImportError:\n",
    "        print(\"module pydotplus.graphviz not found\")\n",
    "\n",
    "    if root.attr == None:\n",
    "        g_node_label = \"Node:%d\\n好瓜:%s\" % (i, root.label)\n",
    "    else:\n",
    "        g_node_label = \"Node:%d\\n好瓜:%s\\n属性:%s\" % (i, root.label, root.attr)\n",
    "    g_node = i\n",
    "    g.add_node(graphviz.Node(g_node, label=g_node_label, fontname=\"FangSong\"))\n",
    "\n",
    "    for value in list(root.attr_down):\n",
    "        i, g_child = TreeToGraph(i + 1, g, root.attr_down[value])\n",
    "        g.add_edge(graphviz.Edge(g_node, g_child, label=value, fontname=\"FangSong\"))\n",
    "\n",
    "    return i, g_node\n",
    "\n",
    "def DrawPNG(root, out_file):\n",
    "    '''\n",
    "    从根开始可视化决策树\n",
    "    \n",
    "    @变量root：节点，树的根节点。 \n",
    "    @变量out_file: str，输出文件的名称和路径\n",
    "    '''\n",
    "    try:\n",
    "        from pydotplus import graphviz\n",
    "    except ImportError:\n",
    "        print(\"module pydotplus.graphviz not found\")\n",
    "        \n",
    "    g = graphviz.Dot()  # generation of new dot   \n",
    "\n",
    "    TreeToGraph(0, g, root)\n",
    "    g2 = graphviz.graph_from_dot_data( g.to_string() )\n",
    "    \n",
    "    g2.write_png(out_file) "
   ]
  },
  {
   "cell_type": "markdown",
   "metadata": {},
   "source": [
    "## 2. ID-3决策树模型使用"
   ]
  },
  {
   "cell_type": "markdown",
   "metadata": {},
   "source": [
    "### 2.1 导入数据，并使用决策树模型"
   ]
  },
  {
   "cell_type": "code",
   "execution_count": 30,
   "metadata": {},
   "outputs": [],
   "source": [
    "#导入包和数据\n",
    "import matplotlib.pyplot as plt\n",
    "import pandas as pd\n",
    "data_file_encode = \"gb18030\"  \n",
    "with open(\"watermelon_3.csv\", mode = 'r', encoding = data_file_encode) as data_file:\n",
    "    df = pd.read_csv(data_file)\n",
    "\n",
    "root = TreeGenerate(df)"
   ]
  },
  {
   "cell_type": "markdown",
   "metadata": {},
   "source": [
    "### 2.2 k折交叉验证 计算模型的泛化能力"
   ]
  },
  {
   "cell_type": "code",
   "execution_count": 31,
   "metadata": {},
   "outputs": [],
   "source": [
    "accuracy_scores = []\n",
    "\n",
    "\n",
    "# k折交叉验证\n",
    "\n",
    "n = len(df.index)\n",
    "k = 10\n",
    "for i in range(k):                        \n",
    "    m = int(n/k)\n",
    "    test = []\n",
    "    for j in range(i*m, i*m+m):\n",
    "        test.append(j)                                                        # 随机抽取m个测试集\n",
    "           \n",
    "    df_train = df.drop(test)                                                  #划分训练集和测试集\n",
    "    df_test = df.iloc[test]                 \n",
    "    root = TreeGenerate(df_train)                               #训练并生成决策树\n",
    "    \n",
    "    # 计算决策树在测试集上的精度\n",
    "    pred_true = 0\n",
    "    for i in df_test.index:\n",
    "        label = Predict(root, df[df.index == i])\n",
    "        if label == df_test[df_test.columns[-1]][i]:\n",
    "            pred_true += 1       \n",
    "    accuracy = pred_true / len(df_test.index)\n",
    "    accuracy_scores.append(accuracy) \n",
    " "
   ]
  },
  {
   "cell_type": "markdown",
   "metadata": {},
   "source": [
    "### 2.3 计算平均精度"
   ]
  },
  {
   "cell_type": "code",
   "execution_count": 32,
   "metadata": {},
   "outputs": [
    {
     "name": "stdout",
     "output_type": "stream",
     "text": [
      "accuracy: 1.000  1.000  1.000  1.000  1.000  0.000  0.000  1.000  0.000  1.000  \n",
      "average accuracy: 0.700\n"
     ]
    }
   ],
   "source": [
    "# 计算平均精度\n",
    "accuracy_sum = 0\n",
    "print(\"accuracy: \", end = \"\")\n",
    "for i in range(k):\n",
    "    print(\"%.3f  \" % accuracy_scores[i], end = \"\")\n",
    "    accuracy_sum += accuracy_scores[i]\n",
    "print(\"\\naverage accuracy: %.3f\" % (accuracy_sum/k))\n",
    "\n",
    "\n",
    "root = TreeGenerate(df)                                 # 用 pydotplus.graphviz函数实现可视化  \n",
    "DrawPNG(root, \"decision_tree_ID3.png\")"
   ]
  },
  {
   "cell_type": "markdown",
   "metadata": {},
   "source": [
    "### 2.4 ID-3决策树可视化\n",
    "![](decision_tree_ID3.png)"
   ]
  },
  {
   "cell_type": "code",
   "execution_count": null,
   "metadata": {
    "collapsed": true
   },
   "outputs": [],
   "source": []
  }
 ],
 "metadata": {
  "kernelspec": {
   "display_name": "Python 3",
   "language": "python",
   "name": "python3"
  },
  "language_info": {
   "codemirror_mode": {
    "name": "ipython",
    "version": 3
   },
   "file_extension": ".py",
   "mimetype": "text/x-python",
   "name": "python",
   "nbconvert_exporter": "python",
   "pygments_lexer": "ipython3",
   "version": "3.8.5"
  }
 },
 "nbformat": 4,
 "nbformat_minor": 2
}
